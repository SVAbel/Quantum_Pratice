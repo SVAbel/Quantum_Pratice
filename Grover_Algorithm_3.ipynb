{
 "cells": [
  {
   "cell_type": "code",
   "execution_count": 1,
   "metadata": {},
   "outputs": [],
   "source": [
    "%matplotlib inline\n",
    "# Importing standard Qiskit libraries and configuring account\n",
    "from qiskit import QuantumCircuit, execute, Aer, IBMQ\n",
    "from qiskit.compiler import transpile, assemble\n",
    "from qiskit.tools.jupyter import *\n",
    "from qiskit.visualization import *\n",
    "# Loading your IBM Q account(s)"
   ]
  },
  {
   "cell_type": "code",
   "execution_count": 2,
   "metadata": {},
   "outputs": [],
   "source": [
    "#initialization\n",
    "import matplotlib.pyplot as plt\n",
    "import numpy as np\n",
    "\n",
    "# importing Qiskit\n",
    "from qiskit import IBMQ, Aer, QuantumCircuit, ClassicalRegister, QuantumRegister, execute\n",
    "from qiskit.providers.ibmq import least_busy\n",
    "from qiskit.quantum_info import Statevector\n",
    "\n",
    "# import basic plot tools\n",
    "from qiskit.visualization import plot_histogram"
   ]
  },
  {
   "cell_type": "code",
   "execution_count": 4,
   "metadata": {},
   "outputs": [
    {
     "data": {
      "image/png": "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\n",
      "text/plain": [
       "<Figure size 200.832x144.48 with 1 Axes>"
      ]
     },
     "execution_count": 4,
     "metadata": {},
     "output_type": "execute_result"
    }
   ],
   "source": [
    "n = 2\n",
    "grover_circuit = QuantumCircuit(n)\n",
    "\n",
    "def initialize_s(qc, qubits):\n",
    "    \"\"\"Apply a H-gate to 'qubits' in qc\"\"\"\n",
    "    for q in qubits:\n",
    "        qc.h(q)\n",
    "    return qc\n",
    "\n",
    "grover_circuit = initialize_s(grover_circuit, [0,1])\n",
    "grover_circuit.draw()"
   ]
  },
  {
   "cell_type": "code",
   "execution_count": 6,
   "metadata": {},
   "outputs": [
    {
     "data": {
      "image/png": "iVBORw0KGgoAAAANSUhEUgAAANMAAAB7CAYAAADuSLVaAAAAOXRFWHRTb2Z0d2FyZQBNYXRwbG90bGliIHZlcnNpb24zLjMuMiwgaHR0cHM6Ly9tYXRwbG90bGliLm9yZy8vihELAAAACXBIWXMAAAsTAAALEwEAmpwYAAAIXElEQVR4nO3db0xV9x3H8fe9yL9J6qR3SmTTyN8qFRpYHKObF7Kp4B6UbKKShUTCAgFCH7gnSywumZRkhCwkppk+gi5ZSOYNsaZBE03hqiGbUZyUzu0mVcSrxOHq0lJRKdw9YGCp8q/9nXsO8Hkl54G/e+F+Mb49Pw4HcIVCoRAi8o257R5AZLlQTCKGKCYRQxSTiCGKScQQxSRiiGISMUQxiRiimEQMUUwihigmEUMUk4ghiknEEMUkYohiEjFEMYkYophEDFFMIoYoJhFDFJOIIYpJxBDFJGKIYhIxRDGJGKKYRAxRTCKGrLJ7gJWo4wrcfWjPayeuhZ9/357XXu4Ukw3uPoSP/233FGKatnkihigmEUMUk4ghiknEEMUkYohiEjFEMYkYophEDFFMYrnHY/DZKIxP2D2JtRwd08TEBM3NzaSmphITE0NWVhZ+v5/09HQqKyvtHi9sfA35XD7VsOB1p7hxD945D7/5C9R3wGEfnLoKn47aPZk1HH07UUVFBR0dHdTX15OTk0NPTw+lpaUMDw9z6NAhu8eTOXTfgFO94HI9W3s8Bt3/hGu34c1d8HKcffNZwbExtbe309bWRnd3N16vF4CCggJ6e3vp6OggOzvb5gllNnc+mQwJIBR6/vFPR+HPPZNBLSeO3eY1NjZSWFg4HdKUlJQUIiMjyczMBGBgYACv10taWhrbtm3j4sWLdowrX3IpAK45Hg8BN4fhnk13zlvFkTEFg0H6+/spKSl57rHBwUEyMjKIjo4GoKqqiv379xMIBDhx4gQHDhzg6dOnRuZwuVyWHH5/96Jnufze2/yx8tszjnuBS4t+P35/t2Uf19Rx7q8DvOCE9Jw9++ssn8XEsVCO3OYFg0EAEhISZqyPjo7i9/spKioC4MGDB1y6dInTp08DkJeXx4YNG+jq6mL37t3hHdpi2984zPbit2as+Rry7RlmHi53hNHnLRWOPDN5PB4AAoHAjPWmpiaGhobIyckBJs9S69evnz5LAWzevJnbt28bmSMUCllyeL35Rub7OrzefMs+rqnj9de+N+c2b4rvTy2Wz2LiWChHnpmSkpLIzMyksbGR+Ph4EhMT8fl8dHZ2AkzHJM70eir03Zn9cRew7iVI+k7YRgoLR56Z3G43J0+eJCMjg+rqasrLy/F4PNTW1hIRETF98WHjxo3cv3+fJ0+eTL/trVu32LRpk12jC5CWAHmpL37M5YJVEfDLvJmXzZcDV2gx5zGblZWVcf36dfr6+qbXdu3aRXFxMTU1NfT09LB3714GBgaIioqycdK5HTtn37etJ6+Dup3Wv04oBBf+BV034L+Pnq1v3QA/e23yZ1EsN47c5s3mypUr5Obmzlg7fvw4Bw8epKWlhaioKNrb2x0d0krhcoH3FfhxGhxqn1z7bTGsXW3rWJZaMjGNjIwQCASoqamZsZ6UlMSFCxdsmkrm4/7SJxLLOSRYQjHFxcUxPj5u9xgis3LkBQiRpUgxiRiimEQMUUwihigmEUMUk4ghiknEkCXzdablxM5baZbjbTxOoZhsoN+PtDxpmydiiGISMUQxiRiimEQMUUwihigmEUMUk4ghiknEEMUkYohiEjFEMYkYophEDFFMIobornEbdFyBuzb9bqLEtbpr3SqKyQZ3H9r345HFOtrmiRiimEQMUUwihigmEUMUk4ghiknEEMUkYohiEjHE0TFNTEzQ3NxMamoqMTExZGVl4ff7SU9Pp7Ky0u7xZB4TIbhx79mfz/bBw8/tm8dqjo6poqKCo0ePUlVVxZkzZ9i3bx+lpaXcvHmTnJwcu8cLG19DPpdPNSx43Qn+MwK/fx9OdD1bO/sh/O4UvP/3yV8gvdw49nai9vZ22tra6O7uxuv1AlBQUEBvby8dHR1kZ2fbPKHM5vEYvHP+xWehEHD+I4heBTtfDftolnLsmamxsZHCwsLpkKakpKQQGRlJZmYmAEeOHCEtLQ23243P57NjVPmKyzfhk88nw5nNuY/gyVjYRgoLR8YUDAbp7++npKTkuccGBwfJyMggOjoagMLCQs6ePcuOHTvCPabM4m8fg2ue5zz9Aj4MhmWcsHHkNi8YnPxbTkhImLE+OjqK3++nqKhoei0vL8+yOVyu+f5JfD2/ONzFd7fkL+ptLr/3Nlc7m2esjT0eYeOrP13U+/H7u3lzV8Gi3maxfnXsLqvXbpj3eZW1v+bamT9YOosJoQV+gufImDweDwCBQIA9e/ZMrzc1NTE0NLSiLj5M2f7GYbYXvzVjzdeQb88w83j02TDfWpOAyz33xufxyIMwTRQejowpKSmJzMxMGhsbiY+PJzExEZ/PR2dnJ0DYYlro/0iLdeycfd/P5PXm42uw9lLaB/+A09fmfs6qCLh6/l1io961dJZwcuTnTG63m5MnT5KRkUF1dTXl5eV4PB5qa2uJiIiYvvggzvSDZHgpFubaJRe8ArFR4ZspHBx5ZgJIS0ujq6trxlpZWRlbt24lNjbWpqlkIVZHQ+1P4PgH8PDR/6MKPbu696NUKMqyc0JruEJW7WUssGXLFnJzc2ltbZ1eq6+vp7W1leHhYeLi4oiNjcXv95OcnGzjpHOzc5uXvA7qdobntb4Yh747k1ftxsbh5Tj4YQokrAnP64fbkolpZGSENWvW0NLSQl1dnd3jfCMrJaaVxrHbvK+Ki4tjfHzc7jFEZuXICxAiS5FiEjFEMYkYophEDFFMIoYoJhFDFJOIIUvm60zLSeLalfnay92SuQNCxOm0zRMxRDGJGKKYRAxRTCKGKCYRQxSTiCGKScQQxSRiiGISMUQxiRiimEQMUUwihigmEUMUk4ghiknEEMUkYohiEjFEMYkY8j8/lQrVs448hAAAAABJRU5ErkJggg==\n",
      "text/plain": [
       "<Figure size 261.032x144.48 with 1 Axes>"
      ]
     },
     "execution_count": 6,
     "metadata": {},
     "output_type": "execute_result"
    }
   ],
   "source": [
    "#if W=11\n",
    "grover_circuit.cz(0,1) # Oracle\n",
    "grover_circuit.draw()"
   ]
  },
  {
   "cell_type": "code",
   "execution_count": 7,
   "metadata": {},
   "outputs": [
    {
     "data": {
      "image/png": "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\n",
      "text/plain": [
       "<Figure size 501.832x144.48 with 1 Axes>"
      ]
     },
     "execution_count": 7,
     "metadata": {},
     "output_type": "execute_result"
    }
   ],
   "source": [
    "# Diffusion operator (U_s)\n",
    "grover_circuit.h([0,1])\n",
    "grover_circuit.z([0,1])\n",
    "grover_circuit.cz(0,1)\n",
    "grover_circuit.h([0,1])\n",
    "grover_circuit.draw()"
   ]
  },
  {
   "cell_type": "code",
   "execution_count": 8,
   "metadata": {},
   "outputs": [],
   "source": [
    "#Diffusion Logic\n",
    "def diffuser(nqubits):\n",
    "    qc = QuantumCircuit(nqubits)\n",
    "    # Apply transformation |s> -> |00..0> (H-gates)\n",
    "    for qubit in range(nqubits):\n",
    "        qc.h(qubit)\n",
    "    # Apply transformation |00..0> -> |11..1> (X-gates)\n",
    "    for qubit in range(nqubits):\n",
    "        qc.x(qubit)\n",
    "    # Do multi-controlled-Z gate\n",
    "    qc.h(nqubits-1)\n",
    "    qc.mct(list(range(nqubits-1)), nqubits-1)  # multi-controlled-toffoli\n",
    "    qc.h(nqubits-1)\n",
    "    # Apply transformation |11..1> -> |00..0>\n",
    "    for qubit in range(nqubits):\n",
    "        qc.x(qubit)\n",
    "    # Apply transformation |00..0> -> |s>\n",
    "    for qubit in range(nqubits):\n",
    "        qc.h(qubit)\n",
    "    # We will return the diffuser as a gate\n",
    "    U_s = qc.to_gate()\n",
    "    U_s.name = \"$U_s$\"\n",
    "    return U_s"
   ]
  },
  {
   "cell_type": "code",
   "execution_count": 9,
   "metadata": {},
   "outputs": [
    {
     "data": {
      "text/latex": [
       "$\\displaystyle \n",
       "$$ |\\psi\\rangle =\\begin{bmatrix}\n",
       "0 \\\\\n",
       "0 \\\\\n",
       "0 \\\\\n",
       "1\\end{bmatrix} $"
      ],
      "text/plain": [
       "<IPython.core.display.Math object>"
      ]
     },
     "metadata": {},
     "output_type": "display_data"
    }
   ],
   "source": [
    "sv_sim = Aer.get_backend('statevector_simulator')\n",
    "job_sim = execute(grover_circuit, sv_sim)\n",
    "statevec = job_sim.result().get_statevector()\n",
    "from qiskit_textbook.tools import vector2latex\n",
    "vector2latex(statevec, pretext=\"|\\\\psi\\\\rangle =\")"
   ]
  },
  {
   "cell_type": "code",
   "execution_count": 10,
   "metadata": {},
   "outputs": [
    {
     "data": {
      "image/png": "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\n",
      "text/plain": [
       "<Figure size 504x360 with 1 Axes>"
      ]
     },
     "execution_count": 10,
     "metadata": {},
     "output_type": "execute_result"
    }
   ],
   "source": [
    "grover_circuit.measure_all() #Input 11\n",
    "\n",
    "qasm_simulator = Aer.get_backend('qasm_simulator')\n",
    "shots = 1024\n",
    "results = execute(grover_circuit, backend=qasm_simulator, shots=shots).result()\n",
    "answer = results.get_counts()\n",
    "plot_histogram(answer)"
   ]
  },
  {
   "cell_type": "code",
   "execution_count": 14,
   "metadata": {},
   "outputs": [
    {
     "name": "stderr",
     "output_type": "stream",
     "text": [
      "ibmqfactory.load_account:WARNING:2020-10-24 18:03:32,838: Credentials are already in use. The existing account in the session will be replaced.\n"
     ]
    },
    {
     "name": "stdout",
     "output_type": "stream",
     "text": [
      "Running on current least busy device:  ibmq_santiago\n",
      "Job Status: job has successfully run\n"
     ]
    }
   ],
   "source": [
    "#Experiment with Real Device\n",
    "# Load IBM Q account and get the least busy backend device\n",
    "#provider = IBMQ.load_account(\"your account")\n",
    "provider = IBMQ.load_account()\n",
    "device = least_busy(provider.backends(filters=lambda x: x.configuration().n_qubits >= 3 and \n",
    "                                   not x.configuration().simulator and x.status().operational==True))\n",
    "print(\"Running on current least busy device: \", device)\n",
    "\n",
    "# Run our circuit on the least busy backend. Monitor the execution of the job in the queue\n",
    "from qiskit.tools.monitor import job_monitor\n",
    "job = execute(grover_circuit, backend=device, shots=1024, optimization_level=3)\n",
    "job_monitor(job, interval = 2)"
   ]
  },
  {
   "cell_type": "code",
   "execution_count": 15,
   "metadata": {},
   "outputs": [
    {
     "data": {
      "image/png": "iVBORw0KGgoAAAANSUhEUgAAAc0AAAE6CAYAAAB00gm8AAAAOXRFWHRTb2Z0d2FyZQBNYXRwbG90bGliIHZlcnNpb24zLjMuMiwgaHR0cHM6Ly9tYXRwbG90bGliLm9yZy8vihELAAAACXBIWXMAAAsTAAALEwEAmpwYAAAnP0lEQVR4nO3de3wU9f3v8dfHIAEFKpcCTYICBqIJEIyLMTZyseWnP7X8qlWkFy+V6vEu9fQc9VGr1tZqW/XoKdW2nNYLrUK9VGyrKNUCRWNoiMZCLGC5lAQICiigECR+zh+zyW+JSZiFze4meT8fj31kd+Y7s59xMO/Md2a+Y+6OiIiIHNhhqS5ARESko1BoioiIhKTQFBERCUmhKSIiEpJCU0REJCSFpoiISEjdUl1AKg0YMMCHDh2a6jJERCSNLFu27D13/2xL87p0aA4dOpSKiopUlyEiImnEzNa3Nk/dsyIiIiEpNEVEREJSaIqIiISk0BQREQlJoSkiIhKSQlNERCQkhaaIiEhICk0REZGQFJoiIiIhKTRFRERCUmiKiIiEpNAUEREJSaEpIiISkkJTREQkJIWmiIhISApNERGRkBSaIiIiISk0RUREQlJoioiIhKTQFBERCUmhKSIiEpJCU0REJCSFpoiIxGX+/Pnk5eWRm5vL3Xff/an569ev5wtf+AJjxoxh4sSJ1NTUNM3LyMhg7NixjB07lilTpjRNnz59OoWFhYwZM4bzzjuPXbt2JWVb4mXunuoaUiYSiXhFRUWqyxAR6TAaGhoYOXIkCxYsICcnh3HjxvHEE0+Qn5/f1Ob888/n7LPP5uKLL+aVV17h4YcfZvbs2QD06tWrxUDcsWMHffr0AeCGG25g4MCB3HTTTcnZqGbMbJm7R1qapyNNEREJbenSpeTm5jJ8+HC6d+/OtGnTmDdv3n5tqqurOe200wCYNGnSp+a3pDEw3Z3du3djZokvPgEUmiIiElptbS1Dhgxp+pyTk0Ntbe1+bQoLC3nmmWcA+MMf/sDOnTvZunUrAHv27CESiXDyySfz7LPP7rfcN7/5TQYPHsw///lPrr322vbdkIOk0BQRkYS65557WLRoESeccAKLFi0iOzubjIwMIDjfWVFRweOPP86MGTP417/+1bTcww8/zMaNGzn++OOZO3duqspvk0JTRERCy87OZsOGDU2fa2pqyM7O3q9NVlYWzzzzDG+88QZ33nknAEcddVTT8gDDhw9n4sSJvPHGG/stm5GRwbRp03j66afbcSsOXlJD08zGm9lzZlZrZm5ml4RYZrSZLTKz3dHlbrVmnd1m9hUzqzaz+ujPc9ptI0REurBx48axevVq1q5dy969e5kzZ85+V8ECvPfee3zyyScA3HXXXVx66aUAbN++nfr6+qY2r776Kvn5+bg777zzDhCc03zuuec47rjjkrhV4SX7SLMXsBy4Hth9oMZm1gdYANQB46LL/S/ghpg2JcBc4HfA2OjPJ82sOMG1i4h0ed26dWPmzJmcfvrpHH/88UydOpWCggJuvfVWnnvuOQAWLlxIXl4eI0eOpK6uju9+97sAvP3220QiEQoLC5k0aRI33XRTU2hefPHFjB49mtGjR7Np0yZuvfXWVG5mq1J2y4mZ7QKucfdH2mhzJfBjYJC7745OuwW4EshxdzezuUA/d58cs9xfgHfd/att1aBbTkREpLmOfMtJCfC3xsCMehHIAobGtHmp2XIvAqe0e3UiItKldEt1AQcwGKhpNq0uZt7a6M+6FtoMbmmFZnY5cDkEJ6sXLlwIBCele/fuTVVVFQD9+/enoKCAxYsXA0GXRGlpKZWVlezYsQOASCRCXV1d00nxESNGkJmZyfLlywEYOHAgI0eOZMmSJQBkZmZSUlJCRUVF0829xcXF1NTUNF2ynZeXR0ZGBtXV1cFGDh7MsGHDKCsrA6Bnz54UFxdTXl7O7t3B3xIlJSWsXbuWzZs3A5Cfn09DQwMrV64EghPvOTk5lJeXA8HNxZFIhLKysqbzC6WlpaxatYotW7YAMGrUKOrr61m9ejUAQ4YMYdCgQTQemffp04eioiKWLFnCvn37ABg/fjwrVqxourS8sLCQnTt3smbNGgCGDh1Kv379qKysBKBv374UFhayaNEi3B0zY8KECVRVVbF9+3YAioqK2LZtG+vWrdN+0n7SftJ+Ssp+aku6d8++BNS4+6Ux044G1gOnuHuZme0FvuXuj8W0uQiY5e6ZbdWg7lkREWmuI3fPbgYGNZs2KGZeW202IyIikkDpHpplwKlm1iNm2mRgI7Aups3kZstNBl5r9+pERKRLSfZ9mr3MbKyZjY1+99HRz0dH599lZi/HLPI48BHwiJmNMrNzgZuA+/y/+5UfAE4zs5vM7DgzuxmYBNyfpM0SEZEuItlHmhHgjeirJ/D96Ps7ovM/Bxzb2NjdPyA4aswCKoCfA/cC98W0eQ2YBlwCvAVcBFzg7uXtuykiItLV6NFguhBIRERidOQLgURERNKGQlNERCQkhaaIiEhICk0REZGQ0n0YPRERaUeX3Z/qChJn1oz2/w4daYqIiISk0BQREQlJoSkiIhKSQlNERCQkhaaIiEhICk0REZGQFJoiIiIhKTRFRERCUmiKiIiEpNAUEREJSaEpIiISkkJTREQkJIWmiIhISApNERGRkBSaIiIiISk0RUREQlJoioiIhKTQFBERCUmhKSIiEpJCU0REJCSFpoiISEgKTRERkZAUmiIiIiEpNEVEREJSaIqIiISk0BQREQlJoSkiIhKSQlNERCQkhaaIiEhICk0REZGQFJoiIiIhKTRFRERCUmiKiIiEpNAUEREJSaEpIiISkkJTREQkJIWmiIhISApNERGRkBSaIiIiISk0RUREQlJoioiIhKTQFBERCUmhKSIiElLSQ9PMrjKztWa2x8yWmdmpbbR9xMy8hdeHMW0mttLmuORskYiIdBVJDU0zuwB4APgRcALwGvCCmR3dyiLXA59r9loD/L6FtgXN2q1OaPEiItLlJftI8wbgEXef5e5vu/u1wCbgypYau/sH7r658QUcCwwHZrXQfEtsW3dvaLetEBGRLilpoWlm3YETgZeazXoJOCXkai4DVrj7ay3MqzCzTWb2splNOoRSRUREWtQtid81AMgA6ppNrwO+eKCFzewzwFTg5mazGo9U/w50By4EXjazCe7+txbWczlwOUBWVhYLFy4EYPjw4fTu3ZuqqioA+vfvT0FBAYsXLwagW7dulJaWUllZyY4dOwCIRCLU1dWxYcMGAEaMGEFmZibLly8HYODAgYwcOZIlS5YAkJmZSUlJCRUVFezatQuA4uJiampqqK2tBSAvL4+MjAyqq6sBGDx4MMOGDaOsrAyAnj17UlxcTHl5Obt37wagpKSEtWvXsnnzZgDy8/NpaGhg5cqVAGRnZ5OTk0N5eTkAvXr1IhKJUFZWRn19PQClpaWsWrWKLVu2ADBq1Cjq6+tZvTro5R4yZAiDBg2ioqICgD59+lBUVMSSJUvYt28fAOPHj2fFihVs3boVgMLCQnbu3MmaNWsAGDp0KP369aOyshKAvn37UlhYyKJFi3B3zIwJEyZQVVXF9u3bASgqKmLbtm2sW7dO+0n7SfupHfYTtHZ2rOPZtGlTQvZTW8zd23ETYr7ILAuoBSa4++KY6bcCX3f3vAMsfzVwL5Dl7tsO0PZ5YJ+7T2mrXSQS8cZ/tCIiXdFl96e6gsSZNSMx6zGzZe4eaWleMs9pvgc0AIOaTR8EbA6x/GXA0wcKzKhyYER85YmIiLQtrtA0s8PM7LCYz4PN7Ftm9vkDLevue4FlwORmsyYTXEXb1veeBBTS8gVALRlL0G0rIiKSMPGe0/wzMB94wMx6ARXAkUAvM5vu7o8dYPn7gNlmthR4FbgCyAJ+AWBmjwG4+0XNlrscWO3uC5uv0MxmAOuAFQTnNL8BfBn4SpzbJiIi0qZ4QzMC/O/o+3OBHcAw4OvAd4A2Q9Pd55pZf+AWgnsplwNnuvv6aJNPnZE2s97ANOCOVlbbHfgpkAPsJgjPs9z9+fCbJSIicmDxhmYv4P3o+/8A/uDuH5vZK8DPw6zA3R8EHmxl3sQWpu2Mfm9r6/sJ8JMw3y0iInIo4r0Q6N/A583sSOB0YEF0ej/go0QWJiIikm7iPdK8D5gN7ALWA423jowH/pHAukRERNJOXKHp7r80s2XAEGCBu38SnfUv4HuJLk5ERCSdxD0ikLtXEFw1GzvtzwmrSEREJE3FPbhB9NFeK8zsIzMbHp12o5lNTXx5IiIi6SPewQ1mENwu8ivAYmZtBK5JXFkiIiLpJ94jzSuAy9z9AWBfzPRKgudZioiIdFrxhuYxBAMSNPcx0PPQyxEREUlf8YbmGqCohelnAtWHXo6IiEj6ivfq2XuAmWZ2BME5zRIzu5BgaL1LE12ciIhIOon3Ps2Hzawb8CPgCIKBDjYC17n73HaoT0REJG0czH2as4BZZjYAOMzdtyS+LBERkfQTd2g2cvf3ElmIiIhIujtgaJrZW8AEd99uZv8AvLW27j4mkcWJiIikkzBHmk8D9THvWw1NERGRzuyAoenu3495f3u7ViMiIpLG4h1G7xUzO6qF6X2iD6IWERHptOId3GAi0L2F6T2AUw+5GhERkTQW6upZM4sdBWiMmW2L+ZwBnA7UJrIwERGRdBP2lpMKgguAHHiphfm7gWsTVZSIiEg6ChuawwiGzVsDnAS8GzNvL7DF3RsSXJuIiEhaCRWa7r4++jbuh1aLiIh0FmEGNzgX+KO7fxx93yp3fyZhlYmIiKSZMEeaTwGDgS3R961xgouCREREOqUwgxsc1tJ7ERGRrkYhKCIiElLYc5qh6JymiIh0ZmHPaYahc5oiItKpxXVOU0REpCtTIIqIiISk+zRFRERC0n2aIiIiIek+TRERkZAUgiIiIiHFHZpmVmRmj5lZRfQ1u9nzNkVERDqluELTzL4O/B34HPB89DUIWGpm30h8eSIiIukj7PM0G90JfM/dfxQ70cxuBn4I/DZRhYmIiKSbeLtnPwv8voXpTwIDD70cERGR9BVvaP4VmNjC9InAokMtRkREJJ3FO2D7C8BdZhYBXo9OOxk4F7g94dWJiIikkYMdsP3y6CvWz4AHD7kiERGRNKUB20VEREJSIIqIiIQU7y0nmFlf4D+Bo4HusfPc/Y4E1SUiIpJ24gpNMzsZ+DNQT3D7SS3BQAf1wDpAoSkiIp1WvN2zPwV+B2QDe4DTCI44K4AfJ7Y0ERGR9BJvaI4BZrq7Aw1AprvXATeiW05ERKSTizc098a8rwOOib7fBWQlpCIREZE0Fe+FQJXAOGAVsBD4oZkNAr4BvJXY0kRERNJLvEea3wU2Rt/fArxLMKhBXz492EGLzOwqM1trZnvMbJmZndpG24lm5i28jmvW7itmVm1m9dGf58S5XSIiIgcU15Gmu1fEvH+X4NaT0MzsAuAB4CpgSfTnC2aW7+7/bmPRAmBbzOd3Y9ZZAswFbgOeIRjS70kz+7y7l8dTn4iISFsOanADMzvWzM6OvobHsegNwCPuPsvd33b3a4FNwJUHWG6Lu2+OeTXEzJsB/NXd74yu806CruMZcdQlIiJyQPE+hLq/mT0LrAaejb5Wm9k8M+t/gGW7AycCLzWb9RJwygG+usLMNpnZy2Y2qdm8khbW+WKIdYqIiMQl3guB/h+QC5wKNHZ9FgMPAbMIukZbMwDIILjqNlYd8MVWlmk8Cv07wehDFwIvm9kEd/9btM3gVtY5uKUVmlnTYPNZWVksXLgQgOHDh9O7d2+qqqoA6N+/PwUFBSxevBiAbt26UVpaSmVlJTt27AAgEolQV1fHhg0bABgxYgSZmZksX74cgIEDBzJy5EiWLFkCQGZmJiUlJVRUVLBr1y4AiouLqampoba2FoC8vDwyMjKorq4ONm7wYIYNG0ZZWRkAPXv2pLi4mPLycnbv3g1ASUkJa9euZfPmzQDk5+fT0NDAypUrAcjOziYnJ4fy8mCX9erVi0gkQllZGfX19QCUlpayatUqtmzZAsCoUaOor69n9erVAAwZMoRBgwZRURH00Pfp04eioiKWLFnCvn37ABg/fjwrVqxg69atABQWFrJz507WrFkDwNChQ+nXrx+VlZUA9O3bl8LCQhYtWoS7Y2ZMmDCBqqoqtm/fDkBRURHbtm1j3bp12k/aT9pP7bCfglvtO4dNmzYlZD+1xYJbLsMxs4+AL7h7WbPpJcBf3P3INpbNIhhBaIK7L46ZfivwdXfPC1nD88A+d58S/bwX+Ja7PxbT5iJglrtntrWuSCTijf9oRUS6osvuT3UFiTNrRmLWY2bL3D3S0rx4z2m+C3zYwvSPgK0HWPY9ggERBjWbPgjYHEcN5cCImM+bE7BOERGRA4o3NO8A7jez7MYJ0ff3coBxZ919L7AMmNxs1mTgtThqGEvQbduoLAHrFBEROaADntM0s38AsX24w4B1ZlYb/dw4Du1AgnOebbkPmG1mS4FXgSsIRhL6RfS7HgNw94uin2cQDAS/guCc5jeALwNfiVnnA8BiM7uJ4MKkc4BJQOmBtk1ERCQeYS4EeipRX+buc6NX2d5C8HSU5cCZ7r4+2qT5GenuBIPE5wC7CcLzLHd/Pmadr5nZNOCHBEe7/wIu0D2aIiKSaAcMTXf/fiK/0N0fBB5sZd7EZp9/AvwkxDqfIoHhLiIi0pK4H0INYGanAfkE3bYr3H1hIosSERFJR/E+hDob+APBIAWNY9BmmVkFcI67b2x1YRERkQ4u3qtn/y/BbSO57j7E3YcQ3P7REJ0nIiLSacXbPTsZmOjuaxsnuPsaM7sOeDmhlYmIiKSZgxmwvaUhhMIPKyQiItJBxRuaLwM/M7MhjRPM7GjgfnSkKSIinVy8oXkdcCSwxszWm9l6gvsij4zOExER6bTiPae5FTgJmAgcF532trv/JZFFiYiIpKPQoWlmGcAHQKG7LwAWtFtVIiIiaSh096y7NwDrCYa2ExER6XLiPaf5A+BuMxvQHsWIiIiks3jPaX6H4CkntWZWQ7Nna7r7mEQVJiIikm7iDc2nCO7JtHaoRUREJK2FCk0zO4LgEV1fBg4nuCfzWnd/r/1KExERSS9hz2l+H7gE+DPwBPBF4KF2qklERCQthe2ePReY7u5zAMzsd8CrZpYRvapWRESk0wt7pDkE+FvjB3dfCuwDstqjKBERkXQUNjQzgL3Npu3jIB9iLSIi0hGFDT0Dfmtm9THTegCzzOyjxgnuPiWRxYmIiKSTsKH5aAvTfpvIQkRERNJdqNB092+2dyEiIiLp7mAeQi0iItIlKTRFRERCUmiKiIiEpNAUEREJSaEpIiISkkJTREQkJIWmiIhISApNERGRkBSaIiIiISk0RUREQlJoioiIhKTQFBERCUmhKSIiEpJCU0REJCSFpoiISEgKTRERkZAUmiIiIiEpNEVEREJSaIqIiISk0BQREQlJoSkiIhKSQlNERCQkhaaIiEhICk0REZGQFJoiIiIhKTRFRERCUmiKiIiElPTQNLOrzGytme0xs2Vmdmobbc81s5fM7F0z22lm5WY2pVmbS8zMW3j1aP+tERGRriSpoWlmFwAPAD8CTgBeA14ws6NbWWQC8ApwVrT988AfWgjaj4DPxb7cfU/it0BERLqybkn+vhuAR9x9VvTztWZ2BnAlcHPzxu5+fbNJ3zezs4AvA3/bv6lvbod6RUREmiTtSNPMugMnAi81m/UScEocq+oNbG82raeZrTezGjP7k5mdcAilioiItCiZR5oDgAygrtn0OuCLYVZgZlcDOcDsmMkrgUuBKoJAvR541cwK3X11C+u4HLgcICsri4ULFwIwfPhwevfuTVVVFQD9+/enoKCAxYsXA9CtWzdKS0uprKxkx44dAEQiEerq6tiwYQMAI0aMIDMzk+XLlwMwcOBARo4cyZIlSwDIzMykpKSEiooKdu3aBUBxcTE1NTXU1tYCkJeXR0ZGBtXV1QAMHjyYYcOGUVZWBkDPnj0pLi6mvLyc3bt3A1BSUsLatWvZvDk42M7Pz6ehoYGVK1cCkJ2dTU5ODuXl5QD06tWLSCRCWVkZ9fX1AJSWlrJq1Sq2bNkCwKhRo6ivr2f16uA/4ZAhQxg0aBAVFRUA9OnTh6KiIpYsWcK+ffsAGD9+PCtWrGDr1q0AFBYWsnPnTtasWQPA0KFD6devH5WVlQD07duXwsJCFi1ahLtjZkyYMIGqqiq2bw/+LioqKmLbtm2sW7dO+0n7SfupHfYTtHZ2rOPZtGlTQvZTW8zd23ETYr7ILAuoBSa4++KY6bcCX3f3vAMs/xWCsLzA3f/YRrsM4E3gr+5+XVvrjEQi3viPVkSkK7rs/lRXkDizZiRmPWa2zN0jLc1L5oVA7wENwKBm0wcBbZ6PNLPzCALzorYCE8DdG4AKYMTBlyoiIvJpSQtNd98LLAMmN5s1meAq2haZ2VSCwLzE3Z860PeYmQFjgE0HX62IiMinJfvq2fuA2Wa2FHgVuALIAn4BYGaPAbj7RdHP0wgC8zvAYjMbHF3PXnffFm1zG/A6sBroA1xHEJpXJmmbRESki0hqaLr7XDPrD9xCcD/lcuBMd18fbdL8jPQVBDXeH301WgRMjL4/CvgVMBj4AHgDGO/uSxO+ASIi0qUl+0gTd38QeLCVeRPb+tzKMt8Gvp2I2kRERNqisWdFRERCUmiKiIiEpNAUEREJSaEpIiISkkJTREQkJIWmiIhISApNERGRkBSaIiIiISk0RUREQlJoioiIhKTQFBERCUmhKSIiEpJCU0REJCSFpoiISEgKTRERkZAUmiIiIiEpNEVEREJSaIqIiISk0BQREQlJoSkiIhKSQlNERCQkhaaIiEhICk0REZGQFJoiIiIhKTRFRERCUmiKiIiEpNAUEREJSaEpIiISkkJTREQkJIWmiIhISApNERGRkBSaIiIiISk0RUREQlJoioiIhKTQFBERCUmhKSIiEpJCU0TS2vz588nLyyM3N5e77777U/Pr6+u54IILyM3Npbi4mHXr1gGwYMECTjzxREaPHs2JJ57IK6+80rTM3r17ufzyyxk5ciTHHXccTz/9dLI2Rzq4bqkuQESkNQ0NDVx99dUsWLCAnJwcxo0bx5QpU8jPz29q8+tf/5q+ffvyzjvvMGfOHG688Ubmzp3LgAED+OMf/0hWVhbLly/n9NNPp7a2FoA777yTgQMHsmrVKj755BO2bduWqk2UDkZHmiKStpYuXUpubi7Dhw+ne/fuTJs2jXnz5u3XZt68eVx88cUAnHfeebz88su4OyeccAJZWVkAFBQUsHv3burr6wH4zW9+w8033wzAYYcdxoABA5K4VdKRKTRFog62G3Dr1q1MmjSJXr16cc011+y3zBNPPMHo0aMZM2YMZ5xxBu+9914yNqXTqK2tZciQIU2fc3Jymo4WW2rTrVs3PvOZz7B169b92jz99NMUFRWRmZnJ+++/D8D3vvc9ioqKOP/886mrq2vfDZFOQ6Epwn93A77wwgtUV1fzxBNPUF1dvV+b2G7Ab3/729x4440A9OjRgx/84Afcc889+7Xft28f119/PX/961956623GDNmDDNnzkzaNklgxYoV3Hjjjfzyl78Egv1SU1PDKaecQmVlJSUlJXznO99JcZXSUSg0RTi0bsAjjzyS0tJSevTosV97d8fd+fDDD3F3duzY0dRdKOFkZ2ezYcOGps81NTVkZ2e32mbfvn188MEH9O/fv6n9Oeecw2OPPcaxxx4LQP/+/TniiCM499xzATj//POprKxMxuZIJ6DQTJGD7QoEuOuuu8jNzSUvL48XX3wRgD179nDSSSdRWFhIQUEBt912W7I2pVNIVDdgrMMPP5yHHnqI0aNHk5WVRXV1NdOnT2+fDeikxo0bx+rVq1m7di179+5lzpw5TJkyZb82U6ZM4dFHHwXgqaee4rTTTsPMeP/99znrrLO4++67+fznP9/U3sz40pe+xMKFCwF4+eWX97uwSKQtCs0UOJSuwOrqaubMmcOKFSuYP38+V111FQ0NDWRmZvLKK69QVVXFm2++yfz583n99ddTsXkS9fHHH/PQQw/xxhtvsHHjRsaMGcNdd92V6rI6lG7dujFz5kxOP/10jj/+eKZOnUpBQQG33norzz33HADTp09n69at5Obmct999zX9ETpz5kzeeecd7rjjDsaOHcvYsWPZsmULAD/+8Y+5/fbbGTNmDLNnz+bee+9N2TZKx6JbTlIgtisQaOoKjP1rd968edx+++1A0BV4zTXX4O7MmzePadOmkZmZybBhw8jNzWXp0qWUlJTQq1cvIPhl/fHHH2NmSd+2jiqebsCcnJxPdQO25M033wRo6hacOnVqi70K0rYzzzyTM888c79pd9xxR9P7Hj168OSTT35quVtuuYVbbrmlxXUec8wxLF68OLGFSpegI80UOJSuwLaWbWhoYOzYsQwcOJDJkydTXFychK3pHA6lG7A12dnZVFdX8+677wLBzfbHH398+22EiLQ7HWl2IhkZGbz55pu8//77nHPOOSxfvpxRo0aluqwOIbYbsKGhgUsvvbSpGzASiTBlyhSmT5/OhRdeSG5uLv369WPOnDlNyw8dOpQdO3awd+9enn32WV566SXy8/O57bbbGD9+PIcffjjHHHMMjzzySOo2Mg1cdn+qK0icWTNSXYGkgkIzBQ6lKzDMskcddRSTJk1i/vz5Cs04HGw3ILDfhVqxrrjiCq644oqE1SgiqaXQTIHYrsDs7GzmzJnD448/vl+bxq7AkpKS/boCp0yZwte+9jVuuOEGNm7cyOrVqznppJN49913OfzwwznqqKPYvXs3CxYsaLp4qKvqLEc1OqIRSR9JP6dpZleZ2Voz22Nmy8zs1AO0nxBtt8fM1pjZp/5sj3edqXYoVwQWFBQwdepU8vPzOeOMM/j5z39ORkYGmzZtYtKkSYwZM4Zx48YxefJkzj777FRupohIp2PunrwvM7sA+C1wFbAk+vObQL67/7uF9sOA5cBvgAeB0ujPae7+9MGsM1YkEvGKiorEbJykHR1ppp/Osk+g8+wX7ZNPM7Nl7h5paV6yjzRvAB5x91nu/ra7XwtsAq5spf0VwEZ3vzbafhbwKBA75lW86xQRETkoSTvSNLPuwEfAV939yZjpPwdGufuEFpZZDPzD3a+OmXY+8DhwBGAHsc7LgcujH/OAlQnYvGQYAGi07/Sj/ZJ+tE/SU0faL8e4+2dbmpHMC4EGABlA88cJ1AFfbGWZwcBfWmjfLbo+i3ed7v4r4Fehq04TZlbRWneBpI72S/rRPklPnWW/aHADERGRkJJ5pPke0AAMajZ9ELC5lWU2t9J+X3R9dhDrFBEROShJO9J0973AMmBys1mTgddaWayslfYV7v7xQa6zo+pwXcpdhPZL+tE+SU+dYr+k4paT2QS3hbxKcHXsdKDA3deb2WMA7n5RtH3jLSezgF8Cnye45eSrzW45aXWdSds4ERHp9JI6IpC7zzWz/sAtwOcIAvHMmHA7uln7tWZ2JvB/CG4h2Qhc1xiYIdcpIiKSEEk90hQREenIdPWsiIhISApNERGRkBSaItJpWPSp4I0/RRJN5zTTmJnlALkE96N+Aqx0d91/KhJSY3i6ftFJgig005SZXQlcChQCHwLvADXA68Cz7r7SzA5z909SWGaXY2Y93X13quuQ/ZnZYcB/AZ8lGJe6Fljk7ltSWph0OgrNNBS9heYd4F7gIYJfBF8EJgLHE4Tnt9292sxMf0Unh5n1BaqAPxM8ju61xv/2sfvBzI4jeDrPjpQV24WYWW/g18Akgh6ZGsCBPcAiYLa7/1P/rySPmR0ODAPWu3t9qutJJJ3TTE9fA1a5+w/dfau7/9PdZ7r7ecD/IPhL+k9mNkC/BJLqGwRDNJ4ILAbeMbM7zCwvJjCHAE8QPFBAkuM6gicWnenug4CvA/cD/wD+A/iJmX1W/68k1dXAG8AvzOxLZjbYzDJiG5hZHzP7z2jAdhgKzfS0F+htZqMAzCwz+mg13H0JwS+FPQS/ECR5xgAPA2cDJwC/B74KVJvZ69HHzn0DGOHua1JXZpdzBvCou/8dIPpH5m+Ba4D/SdA7MzuF9XVFFwBLCa7JeJZgSNSfmlmpmX0m2uZrwG3u/nFqSjw4Cs309BRBN9MMM+vt7vXuvjd63gZ3/zfwPpCTwhq7FDPLBKqBDe6+xd3fcvebgQhwenTe7cCdwI9TVmgXY2bdCEYB+4qZfTY6LSN6vr/B3RcTDK2ZY2aFqay1q4juh4+BWe5+KnAMQff52QQ9NK+Y2Y3ADKA8VXUeLJ3TTDMxl8r/F/AA0I/giOZBgu6OHGA8wbnO0e6+LgVldknR4Ozr7pujXU0eeyGWmU0EXgGOdvea1FTZ9ZjZycDvCP7YvM/d65rNHwK8DeS5e20KSuxSzOxzwDSg2t1fbDbvBOBb0fl9gSEdbZ8oNNOUmR1FMBbvKcA5BIPVQ/DIMyO4uOH2lBTXBTVeRGJmw4EPY38xx8y7FbjE3YenrtKuJdr7chjwTeBHBONpPw3MBf5N0KV+NpDv7uNSVWdXY2Y9Cf6o3BN7z2zMuf87Cc5Bn5CqGg+WQjONmNlA4EKC8zDvAbsJumGXENxqcjjBOYL57r4qRWV2OTH75QZgC8HzXDcBTwLPuPuH0V8MlxFcNfunlBXbhUX/0LyE4FzZWGAnwbn/vwN3uXuH6wrsyFq7WtnMjgAqgYfdvcOdylBophEzewQoAP4IbCPomh0NjCT4ZX2L/sdPvlb2ywnAcQS3N/zU3V9KWYFdlJn1AXbG/mKOHnn2AHoBowh6BfT/TJK0tE9aaNOD4EKhJ6LPRO5QFJppInqkspOgy2JxzLSjgWKC8wDDganuXpmyQruYNvZLDnAywdHlMQTPeNV+SSIz+yXBFZpLCe4H/NR9sWbW19236x7N5Ai5T45y9/eTXVui6OrZ9JEPrCW43QQI+v/dfb27/x74EkFX7fmpKa/Lam2/bHD3JwnOl+1E+yWpzOyrBH+w3AvMI7id4Vwzy42eT8PMegEPm9loBWb7a2WfnGNmx8bsk57Ao42303VEOtJME9F/TH8iGLjgIuBfzYfIM7NrgenuPjb5FXZN2i/pycxmAQ3AT4BzgYuBY4GVwPPAywQDHjzg7t1TVWdX0lX2iY4000R0PNPvAj2Bx4CLzGxI9K/lxpPnEwjuSZMk0X5JP9F7M9cC77v7Gne/x91HA+MIhs27mOA2rZ+hQQ2SoivtEx1ppplot8X3gCkEA7WXAe8SjD27CfiWu/8jdRV2Tdov6SU6DvCg6Jiy3YGPm10QdAHBcIZF7v5misrsUrrKPlFopqnobQ5nAV8muGx+OfCku/8zlXV1ddov6St65ay5e4OZXUbQDXhEquvqyjrjPlFodgCmR4ClJe2X9GVmNwAZ7v7TVNcigc6yTxSaItLpRJ+c0aA/atJHZ9knCk0REZGQdPWsiIhISApNERGRkBSaIiIiISk0RUREQlJoioiIhKTQFBERCen/Ax3SybtSxOoJAAAAAElFTkSuQmCC\n",
      "text/plain": [
       "<Figure size 504x360 with 1 Axes>"
      ]
     },
     "execution_count": 15,
     "metadata": {},
     "output_type": "execute_result"
    }
   ],
   "source": [
    "# Get the results from the computation\n",
    "results = job.result()\n",
    "answer = results.get_counts(grover_circuit)\n",
    "plot_histogram(answer)"
   ]
  },
  {
   "cell_type": "code",
   "execution_count": null,
   "metadata": {},
   "outputs": [],
   "source": []
  }
 ],
 "metadata": {
  "kernelspec": {
   "display_name": "Python 3",
   "language": "python",
   "name": "python3"
  },
  "language_info": {
   "codemirror_mode": {
    "name": "ipython",
    "version": 3
   },
   "file_extension": ".py",
   "mimetype": "text/x-python",
   "name": "python",
   "nbconvert_exporter": "python",
   "pygments_lexer": "ipython3",
   "version": "3.7.8"
  }
 },
 "nbformat": 4,
 "nbformat_minor": 4
}
