{
 "cells": [
  {
   "cell_type": "code",
   "execution_count": 1,
   "metadata": {},
   "outputs": [],
   "source": [
    "%matplotlib inline\n",
    "# Importing standard Qiskit libraries and configuring account\n",
    "from qiskit import QuantumCircuit, execute, Aer, IBMQ\n",
    "from qiskit.compiler import transpile, assemble\n",
    "from qiskit.tools.jupyter import *\n",
    "from qiskit.visualization import *\n",
    "# Loading your IBM Q account(s)\n",
    "provider = IBMQ.load_account()"
   ]
  },
  {
   "cell_type": "code",
   "execution_count": 2,
   "metadata": {},
   "outputs": [
    {
     "name": "stderr",
     "output_type": "stream",
     "text": [
      "ibmqfactory.load_account:WARNING:2021-08-27 11:33:00,461: Credentials are already in use. The existing account in the session will be replaced.\n"
     ]
    }
   ],
   "source": [
    "%matplotlib inline\n",
    "# Importing standard Qiskit libraries and configuring account\n",
    "from qiskit import QuantumCircuit, execute, Aer, IBMQ\n",
    "from qiskit.compiler import transpile, assemble\n",
    "from qiskit.tools.jupyter import *\n",
    "from qiskit.visualization import *\n",
    "# Loading your IBM Q account(s)\n",
    "provider = IBMQ.load_account()"
   ]
  },
  {
   "cell_type": "code",
   "execution_count": null,
   "metadata": {},
   "outputs": [],
   "source": []
  },
  {
   "cell_type": "code",
   "execution_count": 3,
   "metadata": {},
   "outputs": [],
   "source": [
    "import qiskit"
   ]
  },
  {
   "cell_type": "code",
   "execution_count": null,
   "metadata": {},
   "outputs": [],
   "source": []
  },
  {
   "cell_type": "code",
   "execution_count": 4,
   "metadata": {},
   "outputs": [],
   "source": [
    "def _3sat_mystery3_classic(a,b,c):\n",
    "    return int((a or b or not c) and (a or b or c) and (a or not b or c) and (a or not b or not c) and (not a or b or not c) and (not a or b or c) and (not a or not b or not c))"
   ]
  },
  {
   "cell_type": "code",
   "execution_count": 5,
   "metadata": {},
   "outputs": [],
   "source": [
    "import itertools"
   ]
  },
  {
   "cell_type": "code",
   "execution_count": 6,
   "metadata": {},
   "outputs": [
    {
     "name": "stdout",
     "output_type": "stream",
     "text": [
      "(0, 0, 0) -> 0\n",
      "(0, 0, 1) -> 0\n",
      "(0, 1, 0) -> 0\n",
      "(0, 1, 1) -> 0\n",
      "(1, 0, 0) -> 0\n",
      "(1, 0, 1) -> 0\n",
      "(1, 1, 0) -> 1\n",
      "(1, 1, 1) -> 0\n"
     ]
    }
   ],
   "source": [
    "for combo in itertools.product([0,1], repeat=3):\n",
    "    print(combo, '->', _3sat_mystery3_classic(combo[0], combo[1], combo[2]))"
   ]
  },
  {
   "cell_type": "code",
   "execution_count": 7,
   "metadata": {},
   "outputs": [],
   "source": [
    "def setup_or_terdown_logic(qr, qc, is_a, is_b, is_c):\n",
    "    \"\"\"\n",
    "    is_a, is_b, is_c : False는 변수가 부정이 되고, True는 그대로 두는 것을 의미\n",
    "    \"\"\"\n",
    "    if not is_a:\n",
    "        qc.x(qr[0])\n",
    "    if not is_b:\n",
    "        qc.x(qr[1])\n",
    "    if not is_c:\n",
    "        qc.c(qr[2])"
   ]
  },
  {
   "cell_type": "code",
   "execution_count": 8,
   "metadata": {},
   "outputs": [
    {
     "data": {
      "text/plain": [
       "'\\nMover Step\\n'"
      ]
     },
     "execution_count": 8,
     "metadata": {},
     "output_type": "execute_result"
    }
   ],
   "source": [
    "\"\"\"\n",
    "Mover Step\n",
    "\"\"\""
   ]
  },
  {
   "cell_type": "code",
   "execution_count": null,
   "metadata": {},
   "outputs": [],
   "source": []
  },
  {
   "cell_type": "code",
   "execution_count": 9,
   "metadata": {},
   "outputs": [],
   "source": [
    "def diffusion_step(qr, qc, num_inputs):\n",
    "    if num_inputs not in [2, 3]:\n",
    "        raise exception(\"currently only supports 2 or 3 inputs \")\n",
    "    for i in range(num_inputs):\n",
    "        qc.h(qr[i])\n",
    "    for i in range(num_inputs):\n",
    "        qc.x(qr[i])\n",
    "    control_Z(qr, qc, num_inputs)\n",
    "    for i in range(num_inputs):\n",
    "        qc.x(qr[i])\n",
    "    for i in range(num_inputs):\n",
    "        qc.h(qr[i])"
   ]
  },
  {
   "cell_type": "code",
   "execution_count": 10,
   "metadata": {},
   "outputs": [],
   "source": [
    "def grovers_algorithm(checker, num_inputs, num_registers, num_iterations=None):\n",
    "    if num_iterations == None:\n",
    "        from math import floor, sqrt\n",
    "        iterations = floor(sqrt(2**num_inputs))\n",
    "    else:\n",
    "        iterations = num_iterations\n",
    "    print(\"Running Grover's algorithm for %d iterations\"%iterations)\n",
    "    qr = QuantumRegister(num_registers)\n",
    "    cr = ClassicalRegister(num_registers)\n",
    "    qc = QuantumCircuit(qr, cr)\n",
    "    #input Conf\n",
    "    for i in range(num_inputs):\n",
    "        qc.h(qr[i])\n",
    "    #checker output Conf\n",
    "    qc.x(qr[num_registers-1])\n",
    "    qc.h(qr[num_registers-1])\n",
    "    #grover step implement\n",
    "    for it in range(iterations):\n",
    "        checker(qr, qc)\n",
    "        mover(qr, qc, num_inputs)\n",
    "    #input measurement\n",
    "    for j in range(num_inputs):\n",
    "        qc.measure(qr[j], cr[j])\n",
    "    return cr, qr, qc"
   ]
  },
  {
   "cell_type": "code",
   "execution_count": 11,
   "metadata": {},
   "outputs": [
    {
     "data": {
      "text/plain": [
       "\"\\nimplement Grover's Algorithm\\n\""
      ]
     },
     "execution_count": 11,
     "metadata": {},
     "output_type": "execute_result"
    }
   ],
   "source": [
    "\"\"\"\n",
    "implement Grover's Algorithm\n",
    "\"\"\""
   ]
  },
  {
   "cell_type": "code",
   "execution_count": 12,
   "metadata": {},
   "outputs": [
    {
     "name": "stdout",
     "output_type": "stream",
     "text": [
      "Traceback \u001b[1;36m(most recent call last)\u001b[0m:\n",
      "  File \u001b[0;32m\"<ipython-input-12-910af9b50247>\"\u001b[0m, line \u001b[0;32m6\u001b[0m, in \u001b[0;35m<module>\u001b[0m\n",
      "    backend = IBMQ.get_backend('ibmq_qasm_simulator')\n",
      "\u001b[1;36m  File \u001b[1;32m\"/opt/conda/lib/python3.8/site-packages/qiskit/__init__.py\"\u001b[1;36m, line \u001b[1;32m125\u001b[1;36m, in \u001b[1;35m__getattr__\u001b[1;36m\u001b[0m\n",
      "\u001b[1;33m    return getattr(self.ibmq, attr)\u001b[0m\n",
      "\u001b[1;31mAttributeError\u001b[0m\u001b[1;31m:\u001b[0m 'IBMQFactory' object has no attribute 'get_backend'\n",
      "\n",
      "Use %tb to get the full traceback.\n"
     ]
    },
    {
     "data": {
      "text/html": [
       "\n",
       "<style>\n",
       ".button {\n",
       "  border: none;\n",
       "  color: white;\n",
       "  padding: 4px 8px;\n",
       "  text-align: center;\n",
       "  text-decoration: none;\n",
       "  display: inline-block;\n",
       "  font-size: 12px;\n",
       "  margin: 4px 2px;\n",
       "  transition-duration: 0.2s;\n",
       "  cursor: pointer;\n",
       "}\n",
       ".iqx-button {\n",
       "  background-color: #0f62fe; \n",
       "  color: white; \n",
       "}\n",
       ".iqx-button:hover {\n",
       "  background-color: #0043ce;\n",
       "  color: white;\n",
       "}\n",
       "</style>\n",
       "<a href=\"https://stackoverflow.com/search?q=AttributeError: 'IBMQFactory' object has no attribute 'get_backend'\" target='_blank'><button class='button iqx-button'>Search for solution online</button></a>\n"
      ],
      "text/plain": [
       "<IPython.core.display.HTML object>"
      ]
     },
     "metadata": {},
     "output_type": "display_data"
    }
   ],
   "source": [
    "from qiskit.tools.visualization import plot_histogram \n",
    "from qiskit import QuantumCircuit, execute, Aer, IBMQ\n",
    "from qiskit.compiler import transpile, assemble\n",
    "from qiskit.tools.jupyter import *\n",
    "from qiskit.visualization import *\n",
    "backend = IBMQ.get_backend('ibmq_qasm_simulator') \n",
    "shots = 50 \n",
    "cr, qr, qc = grovers_algorithm(_3sat_mystery_3, 3, 23, num_iterations = num_iterations) \n",
    "job_exp = qiskit.execute(qc, backend = backend, shots = shots) \n",
    "result = job_Exp.result() \n",
    "final = result.get_counts(qc) \n",
    "plot_histogram(final)"
   ]
  },
  {
   "cell_type": "code",
   "execution_count": null,
   "metadata": {},
   "outputs": [],
   "source": []
  }
 ],
 "metadata": {
  "kernelspec": {
   "display_name": "Qiskit v0.29.0",
   "language": "python",
   "name": "python3"
  },
  "language_info": {
   "codemirror_mode": {
    "name": "ipython",
    "version": 3
   },
   "file_extension": ".py",
   "mimetype": "text/x-python",
   "name": "python",
   "nbconvert_exporter": "python",
   "pygments_lexer": "ipython3",
   "version": "3.8.10"
  },
  "widgets": {
   "application/vnd.jupyter.widget-state+json": {
    "state": {},
    "version_major": 2,
    "version_minor": 0
   }
  }
 },
 "nbformat": 4,
 "nbformat_minor": 4
}
