{
 "cells": [
  {
   "cell_type": "code",
   "execution_count": 1,
   "metadata": {},
   "outputs": [
    {
     "name": "stderr",
     "output_type": "stream",
     "text": [
      "/opt/conda/lib/python3.7/site-packages/qiskit/providers/ibmq/ibmqfactory.py:192: UserWarning: Timestamps in IBMQ backend properties, jobs, and job results are all now in local time instead of UTC.\n",
      "  warnings.warn('Timestamps in IBMQ backend properties, jobs, and job results '\n"
     ]
    }
   ],
   "source": [
    "%matplotlib inline\n",
    "# Importing standard Qiskit libraries and configuring account\n",
    "from qiskit import QuantumCircuit, execute, Aer, IBMQ\n",
    "from qiskit.compiler import transpile, assemble\n",
    "from qiskit.tools.jupyter import *\n",
    "from qiskit.visualization import *\n",
    "# Loading your IBM Q account(s)\n",
    "provider = IBMQ.load_account()"
   ]
  },
  {
   "cell_type": "code",
   "execution_count": 2,
   "metadata": {},
   "outputs": [
    {
     "name": "stdout",
     "output_type": "stream",
     "text": [
      "Imports Successful\n"
     ]
    }
   ],
   "source": [
    "import matplotlib.pyplot as plt\n",
    "import numpy as np\n",
    "from qiskit import QuantumCircuit, Aer, execute\n",
    "from qiskit.visualization import plot_histogram\n",
    "from math import gcd\n",
    "from numpy.random import randint\n",
    "import pandas as pd\n",
    "from fractions import Fraction\n",
    "print(\"Imports Successful\")"
   ]
  },
  {
   "cell_type": "code",
   "execution_count": 3,
   "metadata": {},
   "outputs": [],
   "source": [
    "#Quick Implementation"
   ]
  },
  {
   "cell_type": "code",
   "execution_count": 4,
   "metadata": {},
   "outputs": [],
   "source": [
    "def c_amod15(a, power):\n",
    "    \"\"\"Controlled multiplication by a mod 15\"\"\"\n",
    "    if a not in [2,7,8,11,13]:\n",
    "        raise ValueError(\"'a' must be 2,7,8,11 or 13\")\n",
    "    U = QuantumCircuit(4)        \n",
    "    for iteration in range(power):\n",
    "        if a in [2,13]:\n",
    "            U.swap(0,1)\n",
    "            U.swap(1,2)\n",
    "            U.swap(2,3)\n",
    "        if a in [7,8]:\n",
    "            U.swap(2,3)\n",
    "            U.swap(1,2)\n",
    "            U.swap(0,1)\n",
    "        if a == 11:\n",
    "            U.swap(1,3)\n",
    "            U.swap(0,2)\n",
    "        if a in [7,11,13]:\n",
    "            for q in range(4):\n",
    "                U.x(q)\n",
    "    U = U.to_gate()\n",
    "    U.name = \"%i^%i mod 15\" % (a, power)\n",
    "    c_U = U.control()\n",
    "    return c_U"
   ]
  },
  {
   "cell_type": "code",
   "execution_count": 5,
   "metadata": {},
   "outputs": [],
   "source": [
    "# Specify variables\n",
    "n_count = 8 # number of counting qubits\n",
    "a = 7"
   ]
  },
  {
   "cell_type": "code",
   "execution_count": 6,
   "metadata": {},
   "outputs": [],
   "source": [
    "def qft_dagger(n):\n",
    "    \"\"\"n-qubit QFTdagger the first n qubits in circ\"\"\"\n",
    "    qc = QuantumCircuit(n)\n",
    "    # Don't forget the Swaps!\n",
    "    for qubit in range(n//2):\n",
    "        qc.swap(qubit, n-qubit-1)\n",
    "    for j in range(n):\n",
    "        for m in range(j):\n",
    "            qc.cu1(-np.pi/float(2**(j-m)), m, j)\n",
    "        qc.h(j)\n",
    "    qc.name = \"QFT†\"\n",
    "    return qc"
   ]
  },
  {
   "cell_type": "code",
   "execution_count": 7,
   "metadata": {},
   "outputs": [
    {
     "data": {
      "text/html": [
       "<pre style=\"word-wrap: normal;white-space: pre;background: #fff0;line-height: 1.1;font-family: &quot;Courier New&quot;,Courier,monospace\">      ┌───┐                                                            »\n",
       " q_0: ┤ H ├───────■────────────────────────────────────────────────────»\n",
       "      ├───┤       │                                                    »\n",
       " q_1: ┤ H ├───────┼──────────────■─────────────────────────────────────»\n",
       "      ├───┤       │              │                                     »\n",
       " q_2: ┤ H ├───────┼──────────────┼──────────────■──────────────────────»\n",
       "      ├───┤       │              │              │                      »\n",
       " q_3: ┤ H ├───────┼──────────────┼──────────────┼──────────────■───────»\n",
       "      ├───┤       │              │              │              │       »\n",
       " q_4: ┤ H ├───────┼──────────────┼──────────────┼──────────────┼───────»\n",
       "      ├───┤       │              │              │              │       »\n",
       " q_5: ┤ H ├───────┼──────────────┼──────────────┼──────────────┼───────»\n",
       "      ├───┤       │              │              │              │       »\n",
       " q_6: ┤ H ├───────┼──────────────┼──────────────┼──────────────┼───────»\n",
       "      ├───┤       │              │              │              │       »\n",
       " q_7: ┤ H ├───────┼──────────────┼──────────────┼──────────────┼───────»\n",
       "      └───┘┌─────┴┼──────┐┌─────┴┼──────┐┌─────┴┼──────┐┌─────┴┼──────┐»\n",
       " q_8: ─────┤0     │      ├┤0     │      ├┤0     │      ├┤0     │      ├»\n",
       "           │             ││             ││             ││             │»\n",
       " q_9: ─────┤1            ├┤1            ├┤1            ├┤1            ├»\n",
       "           │  7^1 mod 15 ││  7^2 mod 15 ││  7^4 mod 15 ││  7^8 mod 15 │»\n",
       "q_10: ─────┤2            ├┤2            ├┤2            ├┤2            ├»\n",
       "      ┌───┐│             ││             ││             ││             │»\n",
       "q_11: ┤ X ├┤3            ├┤3            ├┤3            ├┤3            ├»\n",
       "      └───┘└─────────────┘└─────────────┘└─────────────┘└─────────────┘»\n",
       " c: 8/═════════════════════════════════════════════════════════════════»\n",
       "                                                                       »\n",
       "«                                                                       »\n",
       "« q_0: ─────────────────────────────────────────────────────────────────»\n",
       "«                                                                       »\n",
       "« q_1: ─────────────────────────────────────────────────────────────────»\n",
       "«                                                                       »\n",
       "« q_2: ─────────────────────────────────────────────────────────────────»\n",
       "«                                                                       »\n",
       "« q_3: ─────────────────────────────────────────────────────────────────»\n",
       "«                                                                       »\n",
       "« q_4: ───────■─────────────────────────────────────────────────────────»\n",
       "«             │                                                         »\n",
       "« q_5: ───────┼───────────────■─────────────────────────────────────────»\n",
       "«             │               │                                         »\n",
       "« q_6: ───────┼───────────────┼───────────────■─────────────────────────»\n",
       "«             │               │               │                         »\n",
       "« q_7: ───────┼───────────────┼───────────────┼────────────────■────────»\n",
       "«      ┌──────┴───────┐┌──────┴───────┐┌──────┴───────┐┌──────┴┼───────┐»\n",
       "« q_8: ┤0             ├┤0             ├┤0             ├┤0      │       ├»\n",
       "«      │              ││              ││              ││               │»\n",
       "« q_9: ┤1             ├┤1             ├┤1             ├┤1              ├»\n",
       "«      │  7^16 mod 15 ││  7^32 mod 15 ││  7^64 mod 15 ││  7^128 mod 15 │»\n",
       "«q_10: ┤2             ├┤2             ├┤2             ├┤2              ├»\n",
       "«      │              ││              ││              ││               │»\n",
       "«q_11: ┤3             ├┤3             ├┤3             ├┤3              ├»\n",
       "«      └──────────────┘└──────────────┘└──────────────┘└───────────────┘»\n",
       "« c: 8/═════════════════════════════════════════════════════════════════»\n",
       "«                                                                       »\n",
       "«      ┌───────┐┌─┐                     \n",
       "« q_0: ┤0      ├┤M├─────────────────────\n",
       "«      │       │└╥┘┌─┐                  \n",
       "« q_1: ┤1      ├─╫─┤M├──────────────────\n",
       "«      │       │ ║ └╥┘┌─┐               \n",
       "« q_2: ┤2      ├─╫──╫─┤M├───────────────\n",
       "«      │       │ ║  ║ └╥┘┌─┐            \n",
       "« q_3: ┤3      ├─╫──╫──╫─┤M├────────────\n",
       "«      │  QFT† │ ║  ║  ║ └╥┘┌─┐         \n",
       "« q_4: ┤4      ├─╫──╫──╫──╫─┤M├─────────\n",
       "«      │       │ ║  ║  ║  ║ └╥┘┌─┐      \n",
       "« q_5: ┤5      ├─╫──╫──╫──╫──╫─┤M├──────\n",
       "«      │       │ ║  ║  ║  ║  ║ └╥┘┌─┐   \n",
       "« q_6: ┤6      ├─╫──╫──╫──╫──╫──╫─┤M├───\n",
       "«      │       │ ║  ║  ║  ║  ║  ║ └╥┘┌─┐\n",
       "« q_7: ┤7      ├─╫──╫──╫──╫──╫──╫──╫─┤M├\n",
       "«      └───────┘ ║  ║  ║  ║  ║  ║  ║ └╥┘\n",
       "« q_8: ──────────╫──╫──╫──╫──╫──╫──╫──╫─\n",
       "«                ║  ║  ║  ║  ║  ║  ║  ║ \n",
       "« q_9: ──────────╫──╫──╫──╫──╫──╫──╫──╫─\n",
       "«                ║  ║  ║  ║  ║  ║  ║  ║ \n",
       "«q_10: ──────────╫──╫──╫──╫──╫──╫──╫──╫─\n",
       "«                ║  ║  ║  ║  ║  ║  ║  ║ \n",
       "«q_11: ──────────╫──╫──╫──╫──╫──╫──╫──╫─\n",
       "«                ║  ║  ║  ║  ║  ║  ║  ║ \n",
       "« c: 8/══════════╩══╩══╩══╩══╩══╩══╩══╩═\n",
       "«                0  1  2  3  4  5  6  7 </pre>"
      ],
      "text/plain": [
       "      ┌───┐                                                            »\n",
       " q_0: ┤ H ├───────■────────────────────────────────────────────────────»\n",
       "      ├───┤       │                                                    »\n",
       " q_1: ┤ H ├───────┼──────────────■─────────────────────────────────────»\n",
       "      ├───┤       │              │                                     »\n",
       " q_2: ┤ H ├───────┼──────────────┼──────────────■──────────────────────»\n",
       "      ├───┤       │              │              │                      »\n",
       " q_3: ┤ H ├───────┼──────────────┼──────────────┼──────────────■───────»\n",
       "      ├───┤       │              │              │              │       »\n",
       " q_4: ┤ H ├───────┼──────────────┼──────────────┼──────────────┼───────»\n",
       "      ├───┤       │              │              │              │       »\n",
       " q_5: ┤ H ├───────┼──────────────┼──────────────┼──────────────┼───────»\n",
       "      ├───┤       │              │              │              │       »\n",
       " q_6: ┤ H ├───────┼──────────────┼──────────────┼──────────────┼───────»\n",
       "      ├───┤       │              │              │              │       »\n",
       " q_7: ┤ H ├───────┼──────────────┼──────────────┼──────────────┼───────»\n",
       "      └───┘┌─────┴┼──────┐┌─────┴┼──────┐┌─────┴┼──────┐┌─────┴┼──────┐»\n",
       " q_8: ─────┤0     │      ├┤0     │      ├┤0     │      ├┤0     │      ├»\n",
       "           │             ││             ││             ││             │»\n",
       " q_9: ─────┤1            ├┤1            ├┤1            ├┤1            ├»\n",
       "           │  7^1 mod 15 ││  7^2 mod 15 ││  7^4 mod 15 ││  7^8 mod 15 │»\n",
       "q_10: ─────┤2            ├┤2            ├┤2            ├┤2            ├»\n",
       "      ┌───┐│             ││             ││             ││             │»\n",
       "q_11: ┤ X ├┤3            ├┤3            ├┤3            ├┤3            ├»\n",
       "      └───┘└─────────────┘└─────────────┘└─────────────┘└─────────────┘»\n",
       " c: 8/═════════════════════════════════════════════════════════════════»\n",
       "                                                                       »\n",
       "«                                                                       »\n",
       "« q_0: ─────────────────────────────────────────────────────────────────»\n",
       "«                                                                       »\n",
       "« q_1: ─────────────────────────────────────────────────────────────────»\n",
       "«                                                                       »\n",
       "« q_2: ─────────────────────────────────────────────────────────────────»\n",
       "«                                                                       »\n",
       "« q_3: ─────────────────────────────────────────────────────────────────»\n",
       "«                                                                       »\n",
       "« q_4: ───────■─────────────────────────────────────────────────────────»\n",
       "«             │                                                         »\n",
       "« q_5: ───────┼───────────────■─────────────────────────────────────────»\n",
       "«             │               │                                         »\n",
       "« q_6: ───────┼───────────────┼───────────────■─────────────────────────»\n",
       "«             │               │               │                         »\n",
       "« q_7: ───────┼───────────────┼───────────────┼────────────────■────────»\n",
       "«      ┌──────┴───────┐┌──────┴───────┐┌──────┴───────┐┌──────┴┼───────┐»\n",
       "« q_8: ┤0             ├┤0             ├┤0             ├┤0      │       ├»\n",
       "«      │              ││              ││              ││               │»\n",
       "« q_9: ┤1             ├┤1             ├┤1             ├┤1              ├»\n",
       "«      │  7^16 mod 15 ││  7^32 mod 15 ││  7^64 mod 15 ││  7^128 mod 15 │»\n",
       "«q_10: ┤2             ├┤2             ├┤2             ├┤2              ├»\n",
       "«      │              ││              ││              ││               │»\n",
       "«q_11: ┤3             ├┤3             ├┤3             ├┤3              ├»\n",
       "«      └──────────────┘└──────────────┘└──────────────┘└───────────────┘»\n",
       "« c: 8/═════════════════════════════════════════════════════════════════»\n",
       "«                                                                       »\n",
       "«      ┌───────┐┌─┐                     \n",
       "« q_0: ┤0      ├┤M├─────────────────────\n",
       "«      │       │└╥┘┌─┐                  \n",
       "« q_1: ┤1      ├─╫─┤M├──────────────────\n",
       "«      │       │ ║ └╥┘┌─┐               \n",
       "« q_2: ┤2      ├─╫──╫─┤M├───────────────\n",
       "«      │       │ ║  ║ └╥┘┌─┐            \n",
       "« q_3: ┤3      ├─╫──╫──╫─┤M├────────────\n",
       "«      │  QFT† │ ║  ║  ║ └╥┘┌─┐         \n",
       "« q_4: ┤4      ├─╫──╫──╫──╫─┤M├─────────\n",
       "«      │       │ ║  ║  ║  ║ └╥┘┌─┐      \n",
       "« q_5: ┤5      ├─╫──╫──╫──╫──╫─┤M├──────\n",
       "«      │       │ ║  ║  ║  ║  ║ └╥┘┌─┐   \n",
       "« q_6: ┤6      ├─╫──╫──╫──╫──╫──╫─┤M├───\n",
       "«      │       │ ║  ║  ║  ║  ║  ║ └╥┘┌─┐\n",
       "« q_7: ┤7      ├─╫──╫──╫──╫──╫──╫──╫─┤M├\n",
       "«      └───────┘ ║  ║  ║  ║  ║  ║  ║ └╥┘\n",
       "« q_8: ──────────╫──╫──╫──╫──╫──╫──╫──╫─\n",
       "«                ║  ║  ║  ║  ║  ║  ║  ║ \n",
       "« q_9: ──────────╫──╫──╫──╫──╫──╫──╫──╫─\n",
       "«                ║  ║  ║  ║  ║  ║  ║  ║ \n",
       "«q_10: ──────────╫──╫──╫──╫──╫──╫──╫──╫─\n",
       "«                ║  ║  ║  ║  ║  ║  ║  ║ \n",
       "«q_11: ──────────╫──╫──╫──╫──╫──╫──╫──╫─\n",
       "«                ║  ║  ║  ║  ║  ║  ║  ║ \n",
       "« c: 8/══════════╩══╩══╩══╩══╩══╩══╩══╩═\n",
       "«                0  1  2  3  4  5  6  7 "
      ]
     },
     "execution_count": 7,
     "metadata": {},
     "output_type": "execute_result"
    }
   ],
   "source": [
    "# Create QuantumCircuit with n_count counting qubits\n",
    "# plus 4 qubits for U to act on\n",
    "qc = QuantumCircuit(n_count + 4, n_count)\n",
    "\n",
    "# Initialise counting qubits\n",
    "# in state |+>\n",
    "for q in range(n_count):\n",
    "    qc.h(q)\n",
    "    \n",
    "# And ancilla register in state |1>\n",
    "qc.x(3+n_count)\n",
    "\n",
    "# Do controlled-U operations\n",
    "for q in range(n_count):\n",
    "    qc.append(c_amod15(a, 2**q), \n",
    "             [q] + [i+n_count for i in range(4)])\n",
    "\n",
    "# Do inverse-QFT\n",
    "qc.append(qft_dagger(n_count), range(n_count))\n",
    "\n",
    "# Measure circuit\n",
    "qc.measure(range(n_count), range(n_count))\n",
    "qc.draw('text')"
   ]
  },
  {
   "cell_type": "code",
   "execution_count": 8,
   "metadata": {},
   "outputs": [
    {
     "data": {
      "image/png": "[encoded data removed]",
      "text/plain": [
       "<Figure size 504x360 with 1 Axes>"
      ]
     },
     "execution_count": 8,
     "metadata": {},
     "output_type": "execute_result"
    }
   ],
   "source": [
    "backend = Aer.get_backend('qasm_simulator')\n",
    "results = execute(qc, backend, shots=2048).result()\n",
    "counts = results.get_counts()\n",
    "plot_histogram(counts)"
   ]
  },
  {
   "cell_type": "code",
   "execution_count": 9,
   "metadata": {},
   "outputs": [
    {
     "name": "stdout",
     "output_type": "stream",
     "text": [
      "            Register Output           Phase\n",
      "0    00000000(bin) = 0(dec)    0/256 = 0.00\n",
      "1   01000000(bin) = 64(dec)   64/256 = 0.25\n",
      "2  10000000(bin) = 128(dec)  128/256 = 0.50\n",
      "3  11000000(bin) = 192(dec)  192/256 = 0.75\n"
     ]
    }
   ],
   "source": [
    "rows, measured_phases = [], []\n",
    "for output in counts:\n",
    "    decimal = int(output, 2)  # Convert (base 2) string to decimal\n",
    "    phase = decimal/(2**n_count) # Find corresponding eigenvalue\n",
    "    measured_phases.append(phase)\n",
    "    # Add these values to the rows in our table:\n",
    "    rows.append([\"%s(bin) = %i(dec)\" % (output, decimal), \n",
    "                 \"%i/%i = %.2f\" % (decimal, 2**n_count, phase)])\n",
    "# Print the rows in a table\n",
    "headers=[\"Register Output\", \"Phase\"]\n",
    "df = pd.DataFrame(rows, columns=headers)\n",
    "print(df)"
   ]
  },
  {
   "cell_type": "code",
   "execution_count": 10,
   "metadata": {},
   "outputs": [
    {
     "data": {
      "text/plain": [
       "Fraction(5998794703657501, 9007199254740992)"
      ]
     },
     "execution_count": 10,
     "metadata": {},
     "output_type": "execute_result"
    }
   ],
   "source": [
    "Fraction(0.666)"
   ]
  },
  {
   "cell_type": "code",
   "execution_count": 11,
   "metadata": {},
   "outputs": [
    {
     "data": {
      "text/plain": [
       "0.666"
      ]
     },
     "execution_count": 11,
     "metadata": {},
     "output_type": "execute_result"
    }
   ],
   "source": [
    "5998794703657501/9007199254740992"
   ]
  },
  {
   "cell_type": "code",
   "execution_count": null,
   "metadata": {},
   "outputs": [],
   "source": []
  }
 ],
 "metadata": {
  "kernelspec": {
   "display_name": "Python 3",
   "language": "python",
   "name": "python3"
  },
  "language_info": {
   "codemirror_mode": {
    "name": "ipython",
    "version": 3
   },
   "file_extension": ".py",
   "mimetype": "text/x-python",
   "name": "python",
   "nbconvert_exporter": "python",
   "pygments_lexer": "ipython3",
   "version": "3.7.8"
  }
 },
 "nbformat": 4,
 "nbformat_minor": 4
}
